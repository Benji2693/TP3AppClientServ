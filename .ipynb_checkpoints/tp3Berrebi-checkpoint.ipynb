{
 "cells": [
  {
   "cell_type": "code",
   "execution_count": null,
   "id": "9f020abf-19b9-45d7-a823-dcd3d62092f3",
   "metadata": {},
   "outputs": [],
   "source": [
    "TP 3 - Application Client-Serveur FISE + INT"
   ]
  },
  {
   "cell_type": "code",
   "execution_count": null,
   "id": "1c60120b-c020-4169-93c7-79693d83794a",
   "metadata": {},
   "outputs": [],
   "source": [
    "Exercice 1: Qu'est ce qu'un service web?"
   ]
  },
  {
   "cell_type": "code",
   "execution_count": null,
   "id": "ea5285f5-5203-439b-ac9f-1fd99e6181eb",
   "metadata": {},
   "outputs": [],
   "source": [
    "1) Qu'est ce qu'un service web?\n",
    "\n",
    "Un service web est une application, un logiciel s'exécutant sur notre ordinateur, pour communiquer avec d’autres programmes via un réseau Internet.\n",
    "Il permet la communication entre les applications clients et serveur.\n",
    "Les requetes effectué par le client (dans le langage XML, JSON ou HTTP) seront transmise à un serveur via différents protocole, SOAP, REST ou HTTP.\n",
    "Une réponse sera délivré sous le format de départ (XML, JSON ou HTTP).\n",
    "Cela permet au client de recevoir des informations d'un serveur distant sans pour autant devoir stocker toutes les données sur son ordinateur."
   ]
  },
  {
   "cell_type": "code",
   "execution_count": null,
   "id": "3ebc1d5e-7c44-40b4-9bb5-71298fef1267",
   "metadata": {},
   "outputs": [],
   "source": [
    "2) Une API REST, qu'est-ce que c'est ?\n",
    "Une API REST est une interface de programmation d'application (API ou API web) qui respecte les contraintes du style d'architecture REST et permet d'interagir avec les services web RESTful.\n",
    "Pour comprendre ce qu'est une API REST il faut comprendre ce qu'est une API et ce qu'est l'architecture REST.\n",
    "\n",
    "Une API est un ensemble spécifique de commandes et d'instructions utilisées pour accéder aux données.\n",
    "L'API indique au système ce qu'on attend de lui, pour qu'il puisse comprendre notre demande et y répondre. \n",
    "\n",
    "REST est un style d’architecture permettant de construire des applications Web ou de service Web. Il s’agit d’un ensemble de conventions à respecter.\n",
    "L'architecture REST permet aux API de renvoyer des messages dans différents formats qui peut etre HTML, XML,JSON et en texte brut à la réception d'une requête de donnée, effectué principalement en HTTP."
   ]
  },
  {
   "cell_type": "code",
   "execution_count": null,
   "id": "876d4939-4b77-42e6-81cc-c70b50171558",
   "metadata": {},
   "outputs": [],
   "source": [
    "3) Qu'est ce qu'une FastAPI?\n",
    "FastAPI est un framework Web (un ensemble de bibliothèques et de conventions à la base d'une application) qui est moderne et avec une haute performance donc rapide pour la création d'API avec Python 3.6+.\n"
   ]
  },
  {
   "cell_type": "code",
   "execution_count": null,
   "id": "091c868b-985b-4708-a813-2bb5590d6129",
   "metadata": {},
   "outputs": [],
   "source": [
    "Avec cette commande   uvicorn webserv:app --reload   le serveur est lancé et peut donc répondre aux requetes"
   ]
  }
 ],
 "metadata": {
  "kernelspec": {
   "display_name": "Python 3 (ipykernel)",
   "language": "python",
   "name": "python3"
  },
  "language_info": {
   "codemirror_mode": {
    "name": "ipython",
    "version": 3
   },
   "file_extension": ".py",
   "mimetype": "text/x-python",
   "name": "python",
   "nbconvert_exporter": "python",
   "pygments_lexer": "ipython3",
   "version": "3.10.2"
  }
 },
 "nbformat": 4,
 "nbformat_minor": 5
}
